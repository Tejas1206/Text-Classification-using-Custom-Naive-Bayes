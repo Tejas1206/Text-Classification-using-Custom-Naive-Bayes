{
 "cells": [
  {
   "cell_type": "code",
   "execution_count": 1,
   "id": "9b80cfac",
   "metadata": {},
   "outputs": [],
   "source": [
    "import numpy as np\n",
    "import pandas as pd\n",
    "import os,sys\n",
    "import operator\n",
    "import re,string\n",
    "from sklearn import model_selection"
   ]
  },
  {
   "cell_type": "code",
   "execution_count": 2,
   "id": "d7334be3",
   "metadata": {},
   "outputs": [],
   "source": [
    "# list of all stop words\n",
    "stop_words = ['a', 'about', 'above', 'after', 'again', 'against', 'all', 'am', 'an', 'and',\n",
    "    'any', 'are', \"aren't\", 'as', 'at', 'be', 'because', 'been', 'before', 'being',\n",
    "    'below', 'between', 'both', 'but', 'by', \"can't\", 'cannot', 'could', \"couldn't\",\n",
    "    'did', \"didn't\", 'do', 'does', \"doesn't\", 'doing', \"don't\", 'down', 'during',\n",
    "    'each', 'few', 'for', 'from', 'further', 'had', \"hadn't\", 'has', \"hasn't\", 'have',\n",
    "    \"haven't\", 'having', 'he', \"he'd\", \"he'll\", \"he's\", 'her', 'here', \"here's\",\n",
    "    'hers', 'herself', 'him', 'himself', 'his', 'how', \"how's\", 'i', \"i'd\", \"i'll\",\n",
    "    \"i'm\", \"i've\", 'if', 'in', 'into', 'is', \"isn't\", 'it', \"it's\", 'its', 'itself',\n",
    "    \"let's\", 'me', 'more', 'most', \"mustn't\", 'my', 'myself', 'no', 'nor', 'not', 'of',\n",
    "    'off', 'on', 'once', 'only', 'or', 'other', 'ought', 'our', 'ours', 'ourselves',\n",
    "    'out', 'over', 'own', 'same', \"shan't\", 'she', \"she'd\", \"she'll\", \"she's\",\n",
    "    'should', \"shouldn't\", 'so', 'some', 'such', 'than', 'that', \"that's\", 'the',\n",
    "    'their', 'theirs', 'them', 'themselves', 'then', 'there', \"there's\", 'these',\n",
    "    'they', \"they'd\", \"they'll\", \"they're\", \"they've\", 'this', 'those', 'through',\n",
    "    'to', 'too', 'under', 'until', 'up', 'very', 'was', \"wasn't\", 'we', \"we'd\", \"we'll\",\n",
    "    \"we're\", \"we've\", 'were', \"weren't\", 'what', \"what's\", 'when', \"when's\", 'where',\n",
    "    \"where's\", 'which', 'while', 'who', \"who's\", 'whom', 'why', \"why's\", 'with',\n",
    "    \"won't\", 'would', \"wouldn't\", 'you', \"you'd\", \"you'll\", \"you're\", \"you've\",\n",
    "    'your', 'yours', 'yourself', 'yourselves']"
   ]
  },
  {
   "cell_type": "code",
   "execution_count": 3,
   "id": "1909d173",
   "metadata": {},
   "outputs": [],
   "source": [
    "#X is a list further made in form of tuple , where first element is name of document and second is the text in documents.\n",
    "#Y is the category\n",
    "X  =[] \n",
    "Y = []\n",
    "for category in os.listdir(\"datasets\"):\n",
    "    for document in os.listdir(\"datasets/\"+category):\n",
    "        with open(\"datasets/\"+category+'/'+document, \"r\") as f:\n",
    "            X.append((document,f.read()))\n",
    "            Y.append(category)"
   ]
  },
  {
   "cell_type": "code",
   "execution_count": 4,
   "id": "e8b44ca0",
   "metadata": {},
   "outputs": [],
   "source": [
    "x_train, x_test, y_train, y_test = model_selection.train_test_split(X, Y, test_size = 0.25, random_state = 0)"
   ]
  },
  {
   "cell_type": "code",
   "execution_count": 5,
   "id": "4cba895a",
   "metadata": {},
   "outputs": [
    {
     "name": "stdout",
     "output_type": "stream",
     "text": [
      "14997\n",
      "5000\n"
     ]
    }
   ],
   "source": [
    "print(len(x_train))\n",
    "print(len(x_test))"
   ]
  },
  {
   "cell_type": "code",
   "execution_count": 6,
   "id": "cf5f6247",
   "metadata": {},
   "outputs": [],
   "source": [
    "#Making Dictionary of words with their corresponding frequency\n",
    "dict = {}\n",
    "\n",
    "for i in range (len(x_train)):\n",
    "    words = x_train[i][1].lower()\n",
    "    \n",
    "    stripped_word = re.split(r'\\W+',words)\n",
    "    for word in stripped_word:\n",
    "        #we will not include stop_words, alpha-numerics, punctuations or irrelevant word of length less than 2 in our dictionary\n",
    "        if not(word.isalpha()) or word in stop_words or len(word)<2:\n",
    "            continue\n",
    "        if word in dict:\n",
    "            dict[word] += 1\n",
    "        else:\n",
    "            dict[word] = 1"
   ]
  },
  {
   "cell_type": "code",
   "execution_count": 7,
   "id": "10fb6af6",
   "metadata": {
    "scrolled": true
   },
   "outputs": [],
   "source": [
    "# Sorting the dictionary of words with their corresponding frequency\n",
    "sorted_dict = sorted(dict.items(),key=lambda item:item[1], reverse = True)"
   ]
  },
  {
   "cell_type": "code",
   "execution_count": 8,
   "id": "63a4ed70",
   "metadata": {},
   "outputs": [],
   "source": [
    "import seaborn as sns\n",
    "import matplotlib.pyplot as plt"
   ]
  },
  {
   "cell_type": "code",
   "execution_count": 9,
   "id": "f09aee3a",
   "metadata": {},
   "outputs": [
    {
     "data": {
      "image/png": "[encoded data removed]",
      "text/plain": [
       "<Figure size 1440x504 with 1 Axes>"
      ]
     },
     "metadata": {
      "needs_background": "light"
     },
     "output_type": "display_data"
    }
   ],
   "source": [
    "#Plotting graph on no. of words vs frequency\n",
    "features = sorted_dict\n",
    "No_of_words = []\n",
    "frequency = []\n",
    "for i in range (len(features)):\n",
    "    No_of_words.append(i)\n",
    "    frequency.append(features[i][1])\n",
    "plt.figure(figsize=(20,7))\n",
    "sns.lineplot(x=No_of_words,y=frequency)\n",
    "plt.axis([0,8000,1,5000])\n",
    "plt.grid()\n",
    "plt.xlabel('No. of Words', fontdict={'fontname': 'Monospace', 'fontsize': 20})\n",
    "plt.ylabel('Frequency', fontdict={'fontname': 'Monospace', 'fontsize': 20})\n",
    "plt.show()"
   ]
  },
  {
   "cell_type": "code",
   "execution_count": 10,
   "id": "a3504e7c",
   "metadata": {},
   "outputs": [],
   "source": [
    "# Selecting first 2000 features\n",
    "feature_list = [features[i][0] for i in range(2000)]"
   ]
  },
  {
   "cell_type": "code",
   "execution_count": 11,
   "id": "b2256454",
   "metadata": {},
   "outputs": [],
   "source": [
    "#Making x_train_dataset\n",
    "x_train_dataset = np.zeros([len(x_train),len(feature_list)],int)\n",
    "for i in range (len(x_train)):\n",
    "    words = x_train[i][1].lower()\n",
    "    \n",
    "    stripped_word = re.split(r'\\W+',words)\n",
    "    \n",
    "    for word in stripped_word:\n",
    "        \n",
    "        if word in feature_list:\n",
    "            x_train_dataset[i][feature_list.index(word)] += 1"
   ]
  },
  {
   "cell_type": "code",
   "execution_count": 12,
   "id": "039724e5",
   "metadata": {},
   "outputs": [],
   "source": [
    "#Making x_test_dataset\n",
    "x_test_dataset = np.zeros([len(x_test),len(feature_list)],int)\n",
    "for i in range (len(x_test)):\n",
    "    words = x_test[i][1].lower()\n",
    "    \n",
    "    stripped_word = re.split(r'\\W+',words)\n",
    "    \n",
    "    for word in stripped_word:\n",
    "        \n",
    "        if word in feature_list:\n",
    "            x_test_dataset[i][feature_list.index(word)] += 1"
   ]
  },
  {
   "cell_type": "markdown",
   "id": "d92e7c4c",
   "metadata": {},
   "source": [
    "# Self Implementation of Naive Bayes"
   ]
  },
  {
   "cell_type": "code",
   "execution_count": 13,
   "id": "5a9afe83",
   "metadata": {},
   "outputs": [],
   "source": [
    "#Making dictionary for implementing Naive Baye's\n",
    "def fit(x_train_dataset,y_train):\n",
    "    count={}\n",
    "    total_word=0\n",
    "    y_train=np.array(y_train)\n",
    "    #Total no. of document is calculated\n",
    "    count[\"total_doc\"]=len(y_train)\n",
    "    classes=set(y_train)\n",
    "    for i in classes:\n",
    "        temp=0\n",
    "        #selecting x_train corresponding to class present in y_train\n",
    "        x_train_with_i=x_train_dataset[y_train==i]\n",
    "        #finding length of data with category corresponding to i \n",
    "        temp2=x_train_with_i.shape[0]\n",
    "        count[i]={}\n",
    "        #Iterating over feature_list\n",
    "        for feature in feature_list:\n",
    "            #Calculating total word in feature\n",
    "            l=(x_train_with_i[:,feature_list.index(feature)]).sum()\n",
    "            count[i][feature]=l\n",
    "            temp+=l\n",
    "        #Total word in that class\n",
    "        count[i][\"word_in_class\"]=temp\n",
    "        #Length of data with y_train belonging to specific class\n",
    "        count[i][\"length\"]=temp2\n",
    "        \n",
    "    \n",
    "    return count"
   ]
  },
  {
   "cell_type": "code",
   "execution_count": 14,
   "id": "de99065e",
   "metadata": {},
   "outputs": [],
   "source": [
    "def probability(x_test,dic,classes):\n",
    "    prob=np.log(dic[classes][\"length\"])-np.log(dic[\"total_doc\"])\n",
    "    feature=list(dic[classes].keys())\n",
    "    #-2 is done becuase there will be \"length\" and \"word in class\" present in feature. \n",
    "    for j in range (len(feature)-2):\n",
    "        xj=x_test[j]\n",
    "        #If frequency is 0, we will not consider it\n",
    "        if xj==0:\n",
    "            current_prob=0\n",
    "        else:\n",
    "            #Extra addition part is Laplace correction\n",
    "            num=dic[classes][feature[j]]+1\n",
    "            den=dic[classes][\"word_in_class\"]+len(dic[classes].keys())-2\n",
    "            current_prob=np.log(num)-np.log(den)\n",
    "        prob+=current_prob\n",
    "    return prob"
   ]
  },
  {
   "cell_type": "code",
   "execution_count": 15,
   "id": "82b5563f",
   "metadata": {},
   "outputs": [],
   "source": [
    "#Best_class or probable answer will be returned from here\n",
    "def predict_for_single(x_test,dic):\n",
    "    first_run=True\n",
    "    classes=dic.keys()\n",
    "    for i in classes:\n",
    "        if i==\"total_doc\":\n",
    "            continue\n",
    "        prob=probability(x_test,dic,i)\n",
    "        if first_run or prob>best_prob:\n",
    "            best_prob=prob\n",
    "            first_run=False\n",
    "            best_class=i\n",
    "    return best_class"
   ]
  },
  {
   "cell_type": "code",
   "execution_count": 16,
   "id": "1ea98814",
   "metadata": {},
   "outputs": [],
   "source": [
    "def predict(x_test,dic):\n",
    "    y_pred=[]\n",
    "    for x in x_test:\n",
    "        y_pred.append(predict_for_single(x,dic))\n",
    "    return y_pred"
   ]
  },
  {
   "cell_type": "code",
   "execution_count": 17,
   "id": "98acffff",
   "metadata": {},
   "outputs": [],
   "source": [
    "def score(Y_test,Y_pred):\n",
    "        count = 0\n",
    "        for i in range(len(Y_pred)):\n",
    "            if Y_pred[i] == Y_test[i]:\n",
    "                count+=1\n",
    "        return count/len(Y_pred)"
   ]
  },
  {
   "cell_type": "code",
   "execution_count": 18,
   "id": "48f1778d",
   "metadata": {},
   "outputs": [],
   "source": [
    "dictionary=fit(x_train_dataset,y_train)"
   ]
  },
  {
   "cell_type": "code",
   "execution_count": 19,
   "id": "6e7fc660",
   "metadata": {},
   "outputs": [],
   "source": [
    "y_pred=predict(x_test_dataset,dictionary)"
   ]
  },
  {
   "cell_type": "code",
   "execution_count": 20,
   "id": "79a10047",
   "metadata": {
    "scrolled": true
   },
   "outputs": [
    {
     "name": "stdout",
     "output_type": "stream",
     "text": [
      "0.8452\n"
     ]
    }
   ],
   "source": [
    "print(score(y_test,y_pred))"
   ]
  },
  {
   "cell_type": "code",
   "execution_count": 21,
   "id": "b5d13a7a",
   "metadata": {},
   "outputs": [],
   "source": [
    "from sklearn.metrics import classification_report,confusion_matrix,accuracy_score\n",
    "import pandas as pd"
   ]
  },
  {
   "cell_type": "code",
   "execution_count": 22,
   "id": "034cf45b",
   "metadata": {
    "scrolled": true
   },
   "outputs": [
    {
     "name": "stdout",
     "output_type": "stream",
     "text": [
      "[[201   1   0   0   0   0   1   1   2   2   0   0   1   3   0   0   0   0\n",
      "    0  21]\n",
      " [  0 214   0  19   5   3   4   0   0   0   0   0   4   2   2   0   0   0\n",
      "    0   0]\n",
      " [  0  37   3 129   7  52   4   0   0   0   0   3  10   0   1   0   1   0\n",
      "    2   0]\n",
      " [  0   1   0 222  12   0   5   0   0   0   0   0   0   0   0   0   0   0\n",
      "    0   0]\n",
      " [  0   2   0  17 211   0   6   0   0   0   0   0   0   0   0   0   0   0\n",
      "    0   0]\n",
      " [  0  23   1  10   8 192   1   0   1   0   0   1   2   1   0   0   0   0\n",
      "    0   0]\n",
      " [  0   0   0   9   1   0 232   9   0   0   0   0   8   1   1   0   0   0\n",
      "    0   0]\n",
      " [  0   0   0   0   1   1  10 247   4   0   0   0   6   0   0   0   0   0\n",
      "    0   0]\n",
      " [  0   0   0   0   0   0   3   1 278   0   0   0   0   0   0   0   1   0\n",
      "    1   0]\n",
      " [  0   0   0   0   0   0   2   0   1 237   8   0   0   0   0   0   0   0\n",
      "    0   0]\n",
      " [  0   0   0   0   0   0   1   1   0   5 224   0   0   0   0   0   0   0\n",
      "    0   0]\n",
      " [  0   2   0   0   0   1   0   0   0   0   0 227   3   0   0   0   0   0\n",
      "    0   0]\n",
      " [  0   3   0   3   1   0   4   1   0   0   0   0 231   1   0   0   0   0\n",
      "    0   0]\n",
      " [  0   9   0   0   3   0   1   1   3   0   1   1   3 233   1   0   0   0\n",
      "    0   0]\n",
      " [  0   5   0   0   0   0   1   0   1   0   0   0   3   3 229   0   0   0\n",
      "    4   0]\n",
      " [  0   0   0   0   0   0   0   0   0   0   0   0   0   0   0 252   0   0\n",
      "    0   0]\n",
      " [  0   0   0   0   0   0   0   0   2   0   0   2   0   0   0   0 227   0\n",
      "   14   4]\n",
      " [  0   0   0   0   0   0   1   0   0   1   0   0   0   0   0   0   7 257\n",
      "   15   0]\n",
      " [  0   0   0   0   0   0   1   0   0   1   0   1   0   2   3   0  40  14\n",
      "  186  11]\n",
      " [ 58   1   0   0   0   0   1   0   1   0   0   1   0   0   0   7  15   2\n",
      "   27 123]]\n",
      "                          precision    recall  f1-score   support\n",
      "\n",
      "             alt.atheism       0.78      0.86      0.82       233\n",
      "           comp.graphics       0.72      0.85      0.78       253\n",
      " comp.os.ms-windows.misc       0.75      0.01      0.02       249\n",
      "comp.sys.ibm.pc.hardware       0.54      0.93      0.68       240\n",
      "   comp.sys.mac.hardware       0.85      0.89      0.87       236\n",
      "          comp.windows.x       0.77      0.80      0.79       240\n",
      "            misc.forsale       0.83      0.89      0.86       261\n",
      "               rec.autos       0.95      0.92      0.93       269\n",
      "         rec.motorcycles       0.95      0.98      0.96       284\n",
      "      rec.sport.baseball       0.96      0.96      0.96       248\n",
      "        rec.sport.hockey       0.96      0.97      0.97       231\n",
      "               sci.crypt       0.96      0.97      0.97       233\n",
      "         sci.electronics       0.85      0.95      0.90       244\n",
      "                 sci.med       0.95      0.91      0.93       256\n",
      "               sci.space       0.97      0.93      0.95       246\n",
      "  soc.religion.christian       0.97      1.00      0.99       252\n",
      "      talk.politics.guns       0.78      0.91      0.84       249\n",
      "   talk.politics.mideast       0.94      0.91      0.93       281\n",
      "      talk.politics.misc       0.75      0.72      0.73       259\n",
      "      talk.religion.misc       0.77      0.52      0.62       236\n",
      "\n",
      "                accuracy                           0.85      5000\n",
      "               macro avg       0.85      0.84      0.82      5000\n",
      "            weighted avg       0.85      0.85      0.83      5000\n",
      "\n"
     ]
    }
   ],
   "source": [
    "print(confusion_matrix(y_test,y_pred))\n",
    "print(classification_report(y_test,y_pred))"
   ]
  },
  {
   "cell_type": "markdown",
   "id": "727ef1eb",
   "metadata": {},
   "source": [
    "# Inbuilt Naive Bayes"
   ]
  },
  {
   "cell_type": "code",
   "execution_count": 23,
   "id": "a6fa547f",
   "metadata": {},
   "outputs": [],
   "source": [
    "from sklearn.naive_bayes import MultinomialNB"
   ]
  },
  {
   "cell_type": "code",
   "execution_count": 24,
   "id": "376a900f",
   "metadata": {},
   "outputs": [],
   "source": [
    "clf = MultinomialNB()\n",
    "clf.fit(x_train_dataset, y_train)\n",
    "y_pred = clf.predict(x_test_dataset)"
   ]
  },
  {
   "cell_type": "code",
   "execution_count": 25,
   "id": "484685f5",
   "metadata": {
    "scrolled": true
   },
   "outputs": [
    {
     "name": "stdout",
     "output_type": "stream",
     "text": [
      "training data score 0.8583049943321998\n",
      "testing data score 0.8184\n",
      "[[186   0   0   0   0   0   1   5   3   0   2   0   0   2   0   1   0   0\n",
      "    0  33]\n",
      " [  1 201   0  17   5  14   4   2   0   0   0   0   5   3   1   0   0   0\n",
      "    0   0]\n",
      " [  0  38  18 114  10  53   8   1   0   0   0   1   5   0   1   0   0   0\n",
      "    0   0]\n",
      " [  0   1   0 209  22   0   5   0   0   0   0   0   3   0   0   0   0   0\n",
      "    0   0]\n",
      " [  0   2   0  24 203   0   7   0   0   0   0   0   0   0   0   0   0   0\n",
      "    0   0]\n",
      " [  0  22   1  17  12 175   2   0   2   1   0   1   4   1   2   0   0   0\n",
      "    0   0]\n",
      " [  0   0   0   5   4   0 238   5   1   0   1   1   5   0   0   0   1   0\n",
      "    0   0]\n",
      " [  0   0   0   0   1   0  11 238   8   1   2   0   7   0   0   0   1   0\n",
      "    0   0]\n",
      " [  0   0   0   0   0   0   2   6 274   2   0   0   0   0   0   0   0   0\n",
      "    0   0]\n",
      " [  0   0   0   0   0   0   3   3   3 225  13   0   0   0   1   0   0   0\n",
      "    0   0]\n",
      " [  0   0   0   0   0   0   0   0   3   7 220   0   0   0   1   0   0   0\n",
      "    0   0]\n",
      " [  0   3   0   0   0   2   1   0   0   0   0 222   5   0   0   0   0   0\n",
      "    0   0]\n",
      " [  0   4   0   8   4   0   6   8   1   0   1   0 207   2   2   0   0   0\n",
      "    1   0]\n",
      " [  0   5   0   1   6   2   2   4   9   2   0   1   3 216   4   0   0   1\n",
      "    0   0]\n",
      " [  1   2   0   1   1   0   1   2   2   2   2   0   4   2 224   0   1   0\n",
      "    1   0]\n",
      " [  0   0   0   0   0   0   0   0   0   0   0   0   0   0   0 252   0   0\n",
      "    0   0]\n",
      " [  0   0   0   1   0   0   0   0   3   0   0   3   0   0   0   0 225   0\n",
      "   12   5]\n",
      " [  0   0   0   0   0   0   5   3   1   1   0   0   1   1   0   0   8 240\n",
      "   20   1]\n",
      " [  0   0   0   0   0   0   1   0   0   1   0   4   0   2   2   2  35  13\n",
      "  178  21]\n",
      " [ 44   1   0   0   0   0   1   0   1   0   1   0   0   1   0   8  15   2\n",
      "   21 141]]\n",
      "                          precision    recall  f1-score   support\n",
      "\n",
      "             alt.atheism       0.80      0.80      0.80       233\n",
      "           comp.graphics       0.72      0.79      0.76       253\n",
      " comp.os.ms-windows.misc       0.95      0.07      0.13       249\n",
      "comp.sys.ibm.pc.hardware       0.53      0.87      0.66       240\n",
      "   comp.sys.mac.hardware       0.76      0.86      0.81       236\n",
      "          comp.windows.x       0.71      0.73      0.72       240\n",
      "            misc.forsale       0.80      0.91      0.85       261\n",
      "               rec.autos       0.86      0.88      0.87       269\n",
      "         rec.motorcycles       0.88      0.96      0.92       284\n",
      "      rec.sport.baseball       0.93      0.91      0.92       248\n",
      "        rec.sport.hockey       0.91      0.95      0.93       231\n",
      "               sci.crypt       0.95      0.95      0.95       233\n",
      "         sci.electronics       0.83      0.85      0.84       244\n",
      "                 sci.med       0.94      0.84      0.89       256\n",
      "               sci.space       0.94      0.91      0.93       246\n",
      "  soc.religion.christian       0.96      1.00      0.98       252\n",
      "      talk.politics.guns       0.79      0.90      0.84       249\n",
      "   talk.politics.mideast       0.94      0.85      0.89       281\n",
      "      talk.politics.misc       0.76      0.69      0.72       259\n",
      "      talk.religion.misc       0.70      0.60      0.65       236\n",
      "\n",
      "                accuracy                           0.82      5000\n",
      "               macro avg       0.83      0.82      0.80      5000\n",
      "            weighted avg       0.83      0.82      0.80      5000\n",
      "\n"
     ]
    }
   ],
   "source": [
    "print('training data score', clf.score(x_train_dataset, y_train))\n",
    "print('testing data score', clf.score(x_test_dataset, y_test))\n",
    "print(confusion_matrix(y_test,y_pred))\n",
    "print(classification_report(y_test,y_pred))"
   ]
  },
  {
   "cell_type": "markdown",
   "id": "41a54584",
   "metadata": {},
   "source": [
    "RESULT:\n",
    "Sklearn gave score of 0.82 on testing data, whereas self implemented classifier gave 0.85 on testing data which is close."
   ]
  }
 ],
 "metadata": {
  "kernelspec": {
   "display_name": "Python 3 (ipykernel)",
   "language": "python",
   "name": "python3"
  },
  "language_info": {
   "codemirror_mode": {
    "name": "ipython",
    "version": 3
   },
   "file_extension": ".py",
   "mimetype": "text/x-python",
   "name": "python",
   "nbconvert_exporter": "python",
   "pygments_lexer": "ipython3",
   "version": "3.9.12"
  }
 },
 "nbformat": 4,
 "nbformat_minor": 5
}
